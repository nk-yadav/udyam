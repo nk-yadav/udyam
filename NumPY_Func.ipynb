{
 "cells": [
  {
   "cell_type": "code",
   "execution_count": 1,
   "id": "alone-declaration",
   "metadata": {},
   "outputs": [],
   "source": [
    "import numpy as np"
   ]
  },
  {
   "cell_type": "markdown",
   "id": "political-subcommittee",
   "metadata": {},
   "source": [
    "**Forming arrays**"
   ]
  },
  {
   "cell_type": "code",
   "execution_count": 2,
   "id": "pretty-block",
   "metadata": {},
   "outputs": [],
   "source": [
    "my_array1d=([1,2,3,4,5,6])                             #Using lists"
   ]
  },
  {
   "cell_type": "code",
   "execution_count": 3,
   "id": "ordinary-thousand",
   "metadata": {},
   "outputs": [],
   "source": [
    "my_array2d=([1,2,3],[4,5,6],[7,8,9])"
   ]
  },
  {
   "cell_type": "code",
   "execution_count": 4,
   "id": "environmental-experience",
   "metadata": {},
   "outputs": [
    {
     "data": {
      "text/plain": [
       "[1, 2, 3, 4, 5, 6]"
      ]
     },
     "execution_count": 4,
     "metadata": {},
     "output_type": "execute_result"
    }
   ],
   "source": [
    "my_array1d"
   ]
  },
  {
   "cell_type": "code",
   "execution_count": 5,
   "id": "balanced-workstation",
   "metadata": {},
   "outputs": [
    {
     "data": {
      "text/plain": [
       "([1, 2, 3], [4, 5, 6], [7, 8, 9])"
      ]
     },
     "execution_count": 5,
     "metadata": {},
     "output_type": "execute_result"
    }
   ],
   "source": [
    "my_array2d"
   ]
  },
  {
   "cell_type": "code",
   "execution_count": 6,
   "id": "muslim-enclosure",
   "metadata": {},
   "outputs": [
    {
     "data": {
      "text/plain": [
       "2"
      ]
     },
     "execution_count": 6,
     "metadata": {},
     "output_type": "execute_result"
    }
   ],
   "source": [
    "my_array1d[1]"
   ]
  },
  {
   "cell_type": "code",
   "execution_count": 7,
   "id": "desirable-trace",
   "metadata": {},
   "outputs": [],
   "source": [
    "# my_array2d[0,0]   "
   ]
  },
  {
   "cell_type": "code",
   "execution_count": 8,
   "id": "cheap-scene",
   "metadata": {},
   "outputs": [],
   "source": [
    "# my_array2d[1,2]"
   ]
  },
  {
   "cell_type": "code",
   "execution_count": 9,
   "id": "actual-bearing",
   "metadata": {},
   "outputs": [
    {
     "data": {
      "text/plain": [
       "1"
      ]
     },
     "execution_count": 9,
     "metadata": {},
     "output_type": "execute_result"
    }
   ],
   "source": [
    "my_array2d[0][0]   "
   ]
  },
  {
   "cell_type": "code",
   "execution_count": 10,
   "id": "suspected-norway",
   "metadata": {},
   "outputs": [
    {
     "data": {
      "text/plain": [
       "6"
      ]
     },
     "execution_count": 10,
     "metadata": {},
     "output_type": "execute_result"
    }
   ],
   "source": [
    "my_array2d[1][2]"
   ]
  },
  {
   "cell_type": "code",
   "execution_count": 11,
   "id": "tribal-overhead",
   "metadata": {},
   "outputs": [
    {
     "name": "stdout",
     "output_type": "stream",
     "text": [
      "1 2 3 \n",
      "4 5 6 \n",
      "7 8 9 \n"
     ]
    }
   ],
   "source": [
    "#### Printing 2d list as array\n",
    "for i in my_array2d:\n",
    "    for j in i:\n",
    "        print (j,end=\" \")\n",
    "    print ()"
   ]
  },
  {
   "cell_type": "code",
   "execution_count": 12,
   "id": "knowing-education",
   "metadata": {},
   "outputs": [],
   "source": [
    "my_array1d=np.array([1,2,3,4,5,6,7])                       #Using numpy"
   ]
  },
  {
   "cell_type": "code",
   "execution_count": 13,
   "id": "sacred-elephant",
   "metadata": {},
   "outputs": [],
   "source": [
    "my_array2d=np.array([[1,2,3],[4,5,6],[7,8,9],[5,4,6]])"
   ]
  },
  {
   "cell_type": "code",
   "execution_count": 14,
   "id": "ignored-framing",
   "metadata": {},
   "outputs": [
    {
     "data": {
      "text/plain": [
       "array([1, 2, 3, 4, 5, 6, 7])"
      ]
     },
     "execution_count": 14,
     "metadata": {},
     "output_type": "execute_result"
    }
   ],
   "source": [
    "my_array1d"
   ]
  },
  {
   "cell_type": "code",
   "execution_count": 15,
   "id": "selective-senator",
   "metadata": {},
   "outputs": [
    {
     "data": {
      "text/plain": [
       "array([[1, 2, 3],\n",
       "       [4, 5, 6],\n",
       "       [7, 8, 9],\n",
       "       [5, 4, 6]])"
      ]
     },
     "execution_count": 15,
     "metadata": {},
     "output_type": "execute_result"
    }
   ],
   "source": [
    "my_array2d"
   ]
  },
  {
   "cell_type": "code",
   "execution_count": 16,
   "id": "bearing-florida",
   "metadata": {},
   "outputs": [
    {
     "data": {
      "text/plain": [
       "4"
      ]
     },
     "execution_count": 16,
     "metadata": {},
     "output_type": "execute_result"
    }
   ],
   "source": [
    "my_array1d[3]"
   ]
  },
  {
   "cell_type": "code",
   "execution_count": 17,
   "id": "federal-digit",
   "metadata": {},
   "outputs": [
    {
     "data": {
      "text/plain": [
       "6"
      ]
     },
     "execution_count": 17,
     "metadata": {},
     "output_type": "execute_result"
    }
   ],
   "source": [
    "my_array2d[3,2]"
   ]
  },
  {
   "cell_type": "code",
   "execution_count": 18,
   "id": "endangered-salad",
   "metadata": {},
   "outputs": [
    {
     "data": {
      "text/plain": [
       "array([8, 9])"
      ]
     },
     "execution_count": 18,
     "metadata": {},
     "output_type": "execute_result"
    }
   ],
   "source": [
    "my_array2d[2,1:]"
   ]
  },
  {
   "cell_type": "code",
   "execution_count": 19,
   "id": "optional-coaching",
   "metadata": {},
   "outputs": [
    {
     "data": {
      "text/plain": [
       "array([[1, 2, 3],\n",
       "       [4, 5, 6]])"
      ]
     },
     "execution_count": 19,
     "metadata": {},
     "output_type": "execute_result"
    }
   ],
   "source": [
    "my_array2d[0:2,:]"
   ]
  },
  {
   "cell_type": "code",
   "execution_count": 20,
   "id": "clear-earthquake",
   "metadata": {},
   "outputs": [
    {
     "data": {
      "text/plain": [
       "array([[2, 3],\n",
       "       [5, 6]])"
      ]
     },
     "execution_count": 20,
     "metadata": {},
     "output_type": "execute_result"
    }
   ],
   "source": [
    "my_array2d[0:2,1:]"
   ]
  },
  {
   "cell_type": "code",
   "execution_count": 21,
   "id": "natural-aquarium",
   "metadata": {},
   "outputs": [
    {
     "data": {
      "text/plain": [
       "array([[1, 2],\n",
       "       [4, 5]])"
      ]
     },
     "execution_count": 21,
     "metadata": {},
     "output_type": "execute_result"
    }
   ],
   "source": [
    "my_array2d[:2,:2]"
   ]
  },
  {
   "cell_type": "code",
   "execution_count": 22,
   "id": "wrong-proceeding",
   "metadata": {},
   "outputs": [
    {
     "data": {
      "text/plain": [
       "array([[1, 2, 3],\n",
       "       [4, 5, 6],\n",
       "       [7, 8, 9],\n",
       "       [5, 4, 6]])"
      ]
     },
     "execution_count": 22,
     "metadata": {},
     "output_type": "execute_result"
    }
   ],
   "source": [
    "my_array2d"
   ]
  },
  {
   "cell_type": "code",
   "execution_count": 23,
   "id": "sharp-switch",
   "metadata": {},
   "outputs": [
    {
     "data": {
      "text/plain": [
       "array([[2],\n",
       "       [5]])"
      ]
     },
     "execution_count": 23,
     "metadata": {},
     "output_type": "execute_result"
    }
   ],
   "source": [
    "my_array2d[:2,1:2]"
   ]
  },
  {
   "cell_type": "code",
   "execution_count": 24,
   "id": "norwegian-dryer",
   "metadata": {},
   "outputs": [],
   "source": [
    "my_array2da=np.array([[1,2,3,4,5],[4,5,6,5,4],[7,5,6,8,9],[5,7,4,3,6]])"
   ]
  },
  {
   "cell_type": "code",
   "execution_count": 25,
   "id": "introductory-treaty",
   "metadata": {},
   "outputs": [
    {
     "data": {
      "text/plain": [
       "array([[1, 2, 3, 4, 5],\n",
       "       [4, 5, 6, 5, 4],\n",
       "       [7, 5, 6, 8, 9],\n",
       "       [5, 7, 4, 3, 6]])"
      ]
     },
     "execution_count": 25,
     "metadata": {},
     "output_type": "execute_result"
    }
   ],
   "source": [
    "my_array2da"
   ]
  },
  {
   "cell_type": "code",
   "execution_count": 26,
   "id": "reflected-manufacturer",
   "metadata": {},
   "outputs": [
    {
     "data": {
      "text/plain": [
       "array([[1, 2, 3, 4, 5],\n",
       "       [4, 5, 6, 5, 4],\n",
       "       [7, 5, 6, 8, 9],\n",
       "       [5, 7, 4, 3, 6]])"
      ]
     },
     "execution_count": 26,
     "metadata": {},
     "output_type": "execute_result"
    }
   ],
   "source": [
    "my_array2da[:,::1]"
   ]
  },
  {
   "cell_type": "code",
   "execution_count": 27,
   "id": "social-findings",
   "metadata": {},
   "outputs": [
    {
     "data": {
      "text/plain": [
       "array([[1, 3, 5],\n",
       "       [4, 6, 4],\n",
       "       [7, 6, 9],\n",
       "       [5, 4, 6]])"
      ]
     },
     "execution_count": 27,
     "metadata": {},
     "output_type": "execute_result"
    }
   ],
   "source": [
    "my_array2da[:,::2]"
   ]
  },
  {
   "cell_type": "code",
   "execution_count": 28,
   "id": "cardiac-comedy",
   "metadata": {},
   "outputs": [
    {
     "data": {
      "text/plain": [
       "array([[1, 2, 3, 4, 5],\n",
       "       [7, 5, 6, 8, 9]])"
      ]
     },
     "execution_count": 28,
     "metadata": {},
     "output_type": "execute_result"
    }
   ],
   "source": [
    "my_array2da[::2,:]"
   ]
  },
  {
   "cell_type": "code",
   "execution_count": 29,
   "id": "located-oriental",
   "metadata": {},
   "outputs": [
    {
     "data": {
      "text/plain": [
       "array([[1, 3, 5],\n",
       "       [7, 6, 9]])"
      ]
     },
     "execution_count": 29,
     "metadata": {},
     "output_type": "execute_result"
    }
   ],
   "source": [
    "my_array2da[::2,::2]"
   ]
  },
  {
   "cell_type": "code",
   "execution_count": 30,
   "id": "accessory-satin",
   "metadata": {},
   "outputs": [
    {
     "data": {
      "text/plain": [
       "dtype('int32')"
      ]
     },
     "execution_count": 30,
     "metadata": {},
     "output_type": "execute_result"
    }
   ],
   "source": [
    "my_array1d.dtype\n"
   ]
  },
  {
   "cell_type": "code",
   "execution_count": 31,
   "id": "preliminary-barcelona",
   "metadata": {},
   "outputs": [
    {
     "data": {
      "text/plain": [
       "dtype('int32')"
      ]
     },
     "execution_count": 31,
     "metadata": {},
     "output_type": "execute_result"
    }
   ],
   "source": [
    "my_array2d.dtype\n"
   ]
  },
  {
   "cell_type": "code",
   "execution_count": 32,
   "id": "hazardous-preference",
   "metadata": {},
   "outputs": [
    {
     "data": {
      "text/plain": [
       "(7,)"
      ]
     },
     "execution_count": 32,
     "metadata": {},
     "output_type": "execute_result"
    }
   ],
   "source": [
    "my_array1d.shape\n"
   ]
  },
  {
   "cell_type": "code",
   "execution_count": 33,
   "id": "powerful-translation",
   "metadata": {},
   "outputs": [
    {
     "data": {
      "text/plain": [
       "7"
      ]
     },
     "execution_count": 33,
     "metadata": {},
     "output_type": "execute_result"
    }
   ],
   "source": [
    "my_array1d.size\n"
   ]
  },
  {
   "cell_type": "code",
   "execution_count": 34,
   "id": "sonic-assurance",
   "metadata": {},
   "outputs": [
    {
     "data": {
      "text/plain": [
       "(4, 3)"
      ]
     },
     "execution_count": 34,
     "metadata": {},
     "output_type": "execute_result"
    }
   ],
   "source": [
    "my_array2d.shape"
   ]
  },
  {
   "cell_type": "code",
   "execution_count": 35,
   "id": "meaning-upper",
   "metadata": {},
   "outputs": [
    {
     "data": {
      "text/plain": [
       "12"
      ]
     },
     "execution_count": 35,
     "metadata": {},
     "output_type": "execute_result"
    }
   ],
   "source": [
    "my_array2d.size"
   ]
  },
  {
   "cell_type": "code",
   "execution_count": 36,
   "id": "greenhouse-vienna",
   "metadata": {},
   "outputs": [
    {
     "data": {
      "text/plain": [
       "60"
      ]
     },
     "execution_count": 36,
     "metadata": {},
     "output_type": "execute_result"
    }
   ],
   "source": [
    "np.sum(my_array2d)"
   ]
  },
  {
   "cell_type": "code",
   "execution_count": 37,
   "id": "vocational-stopping",
   "metadata": {},
   "outputs": [
    {
     "data": {
      "text/plain": [
       "9"
      ]
     },
     "execution_count": 37,
     "metadata": {},
     "output_type": "execute_result"
    }
   ],
   "source": [
    "np.max(my_array2d)"
   ]
  },
  {
   "cell_type": "code",
   "execution_count": 38,
   "id": "divine-coral",
   "metadata": {},
   "outputs": [
    {
     "data": {
      "text/plain": [
       "1"
      ]
     },
     "execution_count": 38,
     "metadata": {},
     "output_type": "execute_result"
    }
   ],
   "source": [
    "np.min(my_array1d)"
   ]
  },
  {
   "cell_type": "code",
   "execution_count": 39,
   "id": "invalid-trainer",
   "metadata": {},
   "outputs": [
    {
     "data": {
      "text/plain": [
       "array([[1, 2, 3],\n",
       "       [4, 5, 6],\n",
       "       [7, 8, 9],\n",
       "       [5, 4, 6]])"
      ]
     },
     "execution_count": 39,
     "metadata": {},
     "output_type": "execute_result"
    }
   ],
   "source": [
    "my_array2d"
   ]
  },
  {
   "cell_type": "code",
   "execution_count": 40,
   "id": "focused-deputy",
   "metadata": {},
   "outputs": [
    {
     "data": {
      "text/plain": [
       "array([[1, 2, 3],\n",
       "       [4, 5, 6],\n",
       "       [7, 8, 9],\n",
       "       [4, 5, 6]])"
      ]
     },
     "execution_count": 40,
     "metadata": {},
     "output_type": "execute_result"
    }
   ],
   "source": [
    "np.sort(my_array2d)"
   ]
  },
  {
   "cell_type": "code",
   "execution_count": 41,
   "id": "popular-bikini",
   "metadata": {},
   "outputs": [],
   "source": [
    "ar1=np.array([1,2,3,4],dtype='int8')    "
   ]
  },
  {
   "cell_type": "code",
   "execution_count": 42,
   "id": "constant-ethnic",
   "metadata": {},
   "outputs": [
    {
     "data": {
      "text/plain": [
       "array([1, 2, 3, 4], dtype=int8)"
      ]
     },
     "execution_count": 42,
     "metadata": {},
     "output_type": "execute_result"
    }
   ],
   "source": [
    "ar1\n"
   ]
  },
  {
   "cell_type": "code",
   "execution_count": 43,
   "id": "hourly-planner",
   "metadata": {},
   "outputs": [],
   "source": [
    "ar1=np.array([1,2,3,4],np.int64)"
   ]
  },
  {
   "cell_type": "code",
   "execution_count": 44,
   "id": "presidential-whole",
   "metadata": {},
   "outputs": [
    {
     "data": {
      "text/plain": [
       "array([1, 2, 3, 4], dtype=int64)"
      ]
     },
     "execution_count": 44,
     "metadata": {},
     "output_type": "execute_result"
    }
   ],
   "source": [
    "ar1"
   ]
  },
  {
   "cell_type": "code",
   "execution_count": 45,
   "id": "grave-psychology",
   "metadata": {},
   "outputs": [],
   "source": [
    "ar1=np.array([1,2,3,4],np.float64)"
   ]
  },
  {
   "cell_type": "code",
   "execution_count": 46,
   "id": "gross-asset",
   "metadata": {},
   "outputs": [
    {
     "data": {
      "text/plain": [
       "array([1., 2., 3., 4.])"
      ]
     },
     "execution_count": 46,
     "metadata": {},
     "output_type": "execute_result"
    }
   ],
   "source": [
    "ar1"
   ]
  },
  {
   "cell_type": "code",
   "execution_count": 47,
   "id": "entire-stanford",
   "metadata": {},
   "outputs": [],
   "source": [
    "ar2=np.zeros(3)"
   ]
  },
  {
   "cell_type": "code",
   "execution_count": 48,
   "id": "related-television",
   "metadata": {},
   "outputs": [
    {
     "data": {
      "text/plain": [
       "array([0., 0., 0.])"
      ]
     },
     "execution_count": 48,
     "metadata": {},
     "output_type": "execute_result"
    }
   ],
   "source": [
    "ar2\n"
   ]
  },
  {
   "cell_type": "code",
   "execution_count": 49,
   "id": "cosmetic-tumor",
   "metadata": {},
   "outputs": [],
   "source": [
    "ar2=np.zeros((3,3))"
   ]
  },
  {
   "cell_type": "code",
   "execution_count": 50,
   "id": "sophisticated-words",
   "metadata": {},
   "outputs": [
    {
     "data": {
      "text/plain": [
       "array([[0., 0., 0.],\n",
       "       [0., 0., 0.],\n",
       "       [0., 0., 0.]])"
      ]
     },
     "execution_count": 50,
     "metadata": {},
     "output_type": "execute_result"
    }
   ],
   "source": [
    "ar2\n"
   ]
  },
  {
   "cell_type": "code",
   "execution_count": 51,
   "id": "awful-berry",
   "metadata": {},
   "outputs": [],
   "source": [
    "ar2=np.ones((3,3))"
   ]
  },
  {
   "cell_type": "code",
   "execution_count": 52,
   "id": "statutory-edinburgh",
   "metadata": {},
   "outputs": [
    {
     "data": {
      "text/plain": [
       "array([[1., 1., 1.],\n",
       "       [1., 1., 1.],\n",
       "       [1., 1., 1.]])"
      ]
     },
     "execution_count": 52,
     "metadata": {},
     "output_type": "execute_result"
    }
   ],
   "source": [
    "ar2"
   ]
  },
  {
   "cell_type": "code",
   "execution_count": 53,
   "id": "crazy-monday",
   "metadata": {},
   "outputs": [],
   "source": [
    "ar2=np.ones((3,3),np.int32)"
   ]
  },
  {
   "cell_type": "code",
   "execution_count": 54,
   "id": "bound-allah",
   "metadata": {},
   "outputs": [
    {
     "data": {
      "text/plain": [
       "array([[1, 1, 1],\n",
       "       [1, 1, 1],\n",
       "       [1, 1, 1]])"
      ]
     },
     "execution_count": 54,
     "metadata": {},
     "output_type": "execute_result"
    }
   ],
   "source": [
    "ar2"
   ]
  },
  {
   "cell_type": "code",
   "execution_count": 55,
   "id": "hired-extreme",
   "metadata": {},
   "outputs": [],
   "source": [
    "ar3=np.arange(7)"
   ]
  },
  {
   "cell_type": "code",
   "execution_count": 56,
   "id": "extra-mother",
   "metadata": {},
   "outputs": [
    {
     "data": {
      "text/plain": [
       "array([0, 1, 2, 3, 4, 5, 6])"
      ]
     },
     "execution_count": 56,
     "metadata": {},
     "output_type": "execute_result"
    }
   ],
   "source": [
    "ar3\n"
   ]
  },
  {
   "cell_type": "code",
   "execution_count": 57,
   "id": "individual-aquatic",
   "metadata": {},
   "outputs": [],
   "source": [
    "ar4=np.linspace(1,7,7)                                 #Gives 7 elements at equal distance"
   ]
  },
  {
   "cell_type": "code",
   "execution_count": 58,
   "id": "natural-advertising",
   "metadata": {},
   "outputs": [
    {
     "data": {
      "text/plain": [
       "array([1., 2., 3., 4., 5., 6., 7.])"
      ]
     },
     "execution_count": 58,
     "metadata": {},
     "output_type": "execute_result"
    }
   ],
   "source": [
    "ar4\n"
   ]
  },
  {
   "cell_type": "code",
   "execution_count": 59,
   "id": "excessive-works",
   "metadata": {},
   "outputs": [],
   "source": [
    "ar4=np.linspace(1,50,26)"
   ]
  },
  {
   "cell_type": "code",
   "execution_count": 60,
   "id": "chemical-pearl",
   "metadata": {},
   "outputs": [
    {
     "data": {
      "text/plain": [
       "array([ 1.  ,  2.96,  4.92,  6.88,  8.84, 10.8 , 12.76, 14.72, 16.68,\n",
       "       18.64, 20.6 , 22.56, 24.52, 26.48, 28.44, 30.4 , 32.36, 34.32,\n",
       "       36.28, 38.24, 40.2 , 42.16, 44.12, 46.08, 48.04, 50.  ])"
      ]
     },
     "execution_count": 60,
     "metadata": {},
     "output_type": "execute_result"
    }
   ],
   "source": [
    "ar4"
   ]
  },
  {
   "cell_type": "code",
   "execution_count": 61,
   "id": "cooked-saturday",
   "metadata": {},
   "outputs": [],
   "source": [
    "ar5=np.empty(5)                       #prints random values(just generates an array of given shape)"
   ]
  },
  {
   "cell_type": "code",
   "execution_count": 62,
   "id": "imperial-programmer",
   "metadata": {},
   "outputs": [
    {
     "data": {
      "text/plain": [
       "array([2.12199579e-314, 6.01346930e-154, 3.55727265e-321, 3.79442416e-321,\n",
       "       6.01347002e-154])"
      ]
     },
     "execution_count": 62,
     "metadata": {},
     "output_type": "execute_result"
    }
   ],
   "source": [
    "ar5"
   ]
  },
  {
   "cell_type": "code",
   "execution_count": 63,
   "id": "electronic-antique",
   "metadata": {},
   "outputs": [],
   "source": [
    "ar6=np.empty((3,2))"
   ]
  },
  {
   "cell_type": "code",
   "execution_count": 64,
   "id": "better-technique",
   "metadata": {},
   "outputs": [
    {
     "data": {
      "text/plain": [
       "array([[0., 0.],\n",
       "       [0., 0.],\n",
       "       [0., 0.]])"
      ]
     },
     "execution_count": 64,
     "metadata": {},
     "output_type": "execute_result"
    }
   ],
   "source": [
    "ar6"
   ]
  },
  {
   "cell_type": "code",
   "execution_count": 65,
   "id": "coordinated-tract",
   "metadata": {},
   "outputs": [],
   "source": [
    "for i in range(3):\n",
    "    for j in range(2):\n",
    "        ar6[i,j]=j"
   ]
  },
  {
   "cell_type": "code",
   "execution_count": 66,
   "id": "damaged-charlotte",
   "metadata": {},
   "outputs": [
    {
     "data": {
      "text/plain": [
       "array([[0., 1.],\n",
       "       [0., 1.],\n",
       "       [0., 1.]])"
      ]
     },
     "execution_count": 66,
     "metadata": {},
     "output_type": "execute_result"
    }
   ],
   "source": [
    "ar6"
   ]
  },
  {
   "cell_type": "code",
   "execution_count": 67,
   "id": "collaborative-wednesday",
   "metadata": {},
   "outputs": [],
   "source": [
    "ar7=np.empty_like(my_array2d)               #prints random values of size of my_array2d"
   ]
  },
  {
   "cell_type": "code",
   "execution_count": 68,
   "id": "regular-society",
   "metadata": {},
   "outputs": [
    {
     "data": {
      "text/plain": [
       "array([[         0,          0,          0],\n",
       "       [1072693248,          0,          0],\n",
       "       [         0, 1072693248,          0],\n",
       "       [         0,          0, 1072693248]])"
      ]
     },
     "execution_count": 68,
     "metadata": {},
     "output_type": "execute_result"
    }
   ],
   "source": [
    "ar7"
   ]
  },
  {
   "cell_type": "code",
   "execution_count": 69,
   "id": "young-assessment",
   "metadata": {},
   "outputs": [],
   "source": [
    "ar=np.full((4,5),55)"
   ]
  },
  {
   "cell_type": "code",
   "execution_count": 70,
   "id": "imported-invasion",
   "metadata": {},
   "outputs": [
    {
     "data": {
      "text/plain": [
       "array([[55, 55, 55, 55, 55],\n",
       "       [55, 55, 55, 55, 55],\n",
       "       [55, 55, 55, 55, 55],\n",
       "       [55, 55, 55, 55, 55]])"
      ]
     },
     "execution_count": 70,
     "metadata": {},
     "output_type": "execute_result"
    }
   ],
   "source": [
    "ar\n"
   ]
  },
  {
   "cell_type": "code",
   "execution_count": 71,
   "id": "horizontal-cooking",
   "metadata": {},
   "outputs": [],
   "source": [
    "ar8=np.identity(4)                            #gives identity matrix of shape 5X5"
   ]
  },
  {
   "cell_type": "code",
   "execution_count": 72,
   "id": "psychological-surface",
   "metadata": {},
   "outputs": [
    {
     "data": {
      "text/plain": [
       "array([[1., 0., 0., 0.],\n",
       "       [0., 1., 0., 0.],\n",
       "       [0., 0., 1., 0.],\n",
       "       [0., 0., 0., 1.]])"
      ]
     },
     "execution_count": 72,
     "metadata": {},
     "output_type": "execute_result"
    }
   ],
   "source": [
    "ar8"
   ]
  },
  {
   "cell_type": "code",
   "execution_count": 73,
   "id": "frank-taylor",
   "metadata": {},
   "outputs": [],
   "source": [
    "ar9=np.eye((5))"
   ]
  },
  {
   "cell_type": "code",
   "execution_count": 74,
   "id": "packed-hearing",
   "metadata": {
    "scrolled": true
   },
   "outputs": [
    {
     "data": {
      "text/plain": [
       "array([[1., 0., 0., 0., 0.],\n",
       "       [0., 1., 0., 0., 0.],\n",
       "       [0., 0., 1., 0., 0.],\n",
       "       [0., 0., 0., 1., 0.],\n",
       "       [0., 0., 0., 0., 1.]])"
      ]
     },
     "execution_count": 74,
     "metadata": {},
     "output_type": "execute_result"
    }
   ],
   "source": [
    "ar9\n"
   ]
  },
  {
   "cell_type": "code",
   "execution_count": 75,
   "id": "quantitative-width",
   "metadata": {},
   "outputs": [],
   "source": [
    "ar9=np.eye(5,k=2)                      #Diagonal position changed to index 2 "
   ]
  },
  {
   "cell_type": "code",
   "execution_count": 76,
   "id": "ahead-closing",
   "metadata": {},
   "outputs": [
    {
     "data": {
      "text/plain": [
       "array([[0., 0., 1., 0., 0.],\n",
       "       [0., 0., 0., 1., 0.],\n",
       "       [0., 0., 0., 0., 1.],\n",
       "       [0., 0., 0., 0., 0.],\n",
       "       [0., 0., 0., 0., 0.]])"
      ]
     },
     "execution_count": 76,
     "metadata": {},
     "output_type": "execute_result"
    }
   ],
   "source": [
    "ar9"
   ]
  },
  {
   "cell_type": "code",
   "execution_count": 77,
   "id": "loose-petite",
   "metadata": {},
   "outputs": [],
   "source": [
    "naveen=np.empty_like(my_array1d)"
   ]
  },
  {
   "cell_type": "code",
   "execution_count": 78,
   "id": "august-issue",
   "metadata": {},
   "outputs": [
    {
     "data": {
      "text/plain": [
       "array([         1,          1,          0, 1869771365,        900,\n",
       "                0,   16777984])"
      ]
     },
     "execution_count": 78,
     "metadata": {},
     "output_type": "execute_result"
    }
   ],
   "source": [
    "naveen"
   ]
  },
  {
   "cell_type": "code",
   "execution_count": 79,
   "id": "elementary-calculator",
   "metadata": {},
   "outputs": [],
   "source": [
    "naveen[0]=25"
   ]
  },
  {
   "cell_type": "code",
   "execution_count": 80,
   "id": "opening-regard",
   "metadata": {},
   "outputs": [
    {
     "data": {
      "text/plain": [
       "array([[        25],\n",
       "       [         1],\n",
       "       [         0],\n",
       "       [1869771365],\n",
       "       [       900],\n",
       "       [         0],\n",
       "       [  16777984]])"
      ]
     },
     "execution_count": 80,
     "metadata": {},
     "output_type": "execute_result"
    }
   ],
   "source": [
    "naveen.reshape(7,1)             ##Doesn't change the original array"
   ]
  },
  {
   "cell_type": "code",
   "execution_count": 81,
   "id": "foster-transformation",
   "metadata": {},
   "outputs": [
    {
     "data": {
      "text/plain": [
       "array([        25,          1,          0, 1869771365,        900,\n",
       "                0,   16777984])"
      ]
     },
     "execution_count": 81,
     "metadata": {},
     "output_type": "execute_result"
    }
   ],
   "source": [
    "naveen"
   ]
  },
  {
   "cell_type": "code",
   "execution_count": 82,
   "id": "historical-jackson",
   "metadata": {},
   "outputs": [],
   "source": [
    "yadav=np.empty_like(ar8)"
   ]
  },
  {
   "cell_type": "code",
   "execution_count": 83,
   "id": "prospective-recycling",
   "metadata": {},
   "outputs": [],
   "source": [
    "yadav.resize(8,2)                            #Changes the original array"
   ]
  },
  {
   "cell_type": "code",
   "execution_count": 84,
   "id": "sapphire-corruption",
   "metadata": {},
   "outputs": [
    {
     "data": {
      "text/plain": [
       "array([[1., 0.],\n",
       "       [0., 0.],\n",
       "       [0., 1.],\n",
       "       [0., 0.],\n",
       "       [0., 0.],\n",
       "       [1., 0.],\n",
       "       [0., 0.],\n",
       "       [0., 1.]])"
      ]
     },
     "execution_count": 84,
     "metadata": {},
     "output_type": "execute_result"
    }
   ],
   "source": [
    "yadav"
   ]
  },
  {
   "cell_type": "code",
   "execution_count": 85,
   "id": "current-fiction",
   "metadata": {},
   "outputs": [
    {
     "data": {
      "text/plain": [
       "array([1., 0., 0., 0., 0., 1., 0., 0., 0., 0., 1., 0., 0., 0., 0., 1.])"
      ]
     },
     "execution_count": 85,
     "metadata": {},
     "output_type": "execute_result"
    }
   ],
   "source": [
    "yadav.ravel()                                #converts in 1d array"
   ]
  },
  {
   "cell_type": "markdown",
   "id": "determined-daughter",
   "metadata": {},
   "source": [
    "**Matrix Operations can be performed in numpy**"
   ]
  },
  {
   "cell_type": "code",
   "execution_count": 86,
   "id": "charming-shelter",
   "metadata": {},
   "outputs": [],
   "source": [
    "arr1=np.array([[1,2,3,4]\n",
    "              ,[4,5,5,6]\n",
    "              ,[7,8,9,6]])"
   ]
  },
  {
   "cell_type": "code",
   "execution_count": 87,
   "id": "valid-illustration",
   "metadata": {},
   "outputs": [],
   "source": [
    "arr2=np.array([[1,2,3,4]\n",
    "              ,[4,5,5,9]\n",
    "              ,[1,2,2,3]])"
   ]
  },
  {
   "cell_type": "code",
   "execution_count": 88,
   "id": "invisible-schedule",
   "metadata": {},
   "outputs": [
    {
     "data": {
      "text/plain": [
       "array([[ 2,  4,  6,  8],\n",
       "       [ 8, 10, 10, 15],\n",
       "       [ 8, 10, 11,  9]])"
      ]
     },
     "execution_count": 88,
     "metadata": {},
     "output_type": "execute_result"
    }
   ],
   "source": [
    "arr1+arr2"
   ]
  },
  {
   "cell_type": "code",
   "execution_count": 89,
   "id": "proper-swiss",
   "metadata": {},
   "outputs": [
    {
     "data": {
      "text/plain": [
       "array([[ 1,  4,  9, 16],\n",
       "       [16, 25, 25, 54],\n",
       "       [ 7, 16, 18, 18]])"
      ]
     },
     "execution_count": 89,
     "metadata": {},
     "output_type": "execute_result"
    }
   ],
   "source": [
    "arr1*arr2"
   ]
  },
  {
   "cell_type": "markdown",
   "id": "announced-proceeding",
   "metadata": {},
   "source": [
    " ***AXIS***"
   ]
  },
  {
   "cell_type": "code",
   "execution_count": 90,
   "id": "prepared-shower",
   "metadata": {},
   "outputs": [],
   "source": [
    "#axis0 is for rows"
   ]
  },
  {
   "cell_type": "code",
   "execution_count": 91,
   "id": "understood-combine",
   "metadata": {},
   "outputs": [],
   "source": [
    "#axis1 is for columns"
   ]
  },
  {
   "cell_type": "code",
   "execution_count": 92,
   "id": "adaptive-sewing",
   "metadata": {},
   "outputs": [],
   "source": [
    "#naxis==ndim"
   ]
  },
  {
   "cell_type": "code",
   "execution_count": 93,
   "id": "adequate-denmark",
   "metadata": {},
   "outputs": [
    {
     "data": {
      "text/plain": [
       "array([12, 15, 17, 16])"
      ]
     },
     "execution_count": 93,
     "metadata": {},
     "output_type": "execute_result"
    }
   ],
   "source": [
    "arr1.sum(axis=0)   "
   ]
  },
  {
   "cell_type": "code",
   "execution_count": 94,
   "id": "banner-economics",
   "metadata": {},
   "outputs": [
    {
     "data": {
      "text/plain": [
       "array([10, 23,  8])"
      ]
     },
     "execution_count": 94,
     "metadata": {},
     "output_type": "execute_result"
    }
   ],
   "source": [
    "arr2.sum(axis=1)"
   ]
  },
  {
   "cell_type": "code",
   "execution_count": 95,
   "id": "boolean-salon",
   "metadata": {},
   "outputs": [
    {
     "data": {
      "text/plain": [
       "array([[1, 2, 3, 4],\n",
       "       [4, 5, 5, 6],\n",
       "       [7, 8, 9, 6]])"
      ]
     },
     "execution_count": 95,
     "metadata": {},
     "output_type": "execute_result"
    }
   ],
   "source": [
    "arr1"
   ]
  },
  {
   "cell_type": "code",
   "execution_count": 96,
   "id": "female-island",
   "metadata": {},
   "outputs": [
    {
     "data": {
      "text/plain": [
       "array([[1, 4, 7],\n",
       "       [2, 5, 8],\n",
       "       [3, 5, 9],\n",
       "       [4, 6, 6]])"
      ]
     },
     "execution_count": 96,
     "metadata": {},
     "output_type": "execute_result"
    }
   ],
   "source": [
    "arr1.T                                       #Rows <--> Columns"
   ]
  },
  {
   "cell_type": "code",
   "execution_count": 97,
   "id": "growing-grocery",
   "metadata": {},
   "outputs": [
    {
     "name": "stdout",
     "output_type": "stream",
     "text": [
      "1\n",
      "2\n",
      "3\n",
      "4\n",
      "4\n",
      "5\n",
      "5\n",
      "6\n",
      "7\n",
      "8\n",
      "9\n",
      "6\n"
     ]
    }
   ],
   "source": [
    "flat=arr1.flat                             #makes 1-D iterator over the array.\n",
    "for i in flat:\n",
    "    print(i)"
   ]
  },
  {
   "cell_type": "code",
   "execution_count": 98,
   "id": "agricultural-pittsburgh",
   "metadata": {},
   "outputs": [
    {
     "data": {
      "text/plain": [
       "2"
      ]
     },
     "execution_count": 98,
     "metadata": {},
     "output_type": "execute_result"
    }
   ],
   "source": [
    "arr1.ndim\n"
   ]
  },
  {
   "cell_type": "code",
   "execution_count": 99,
   "id": "whole-triangle",
   "metadata": {},
   "outputs": [
    {
     "data": {
      "text/plain": [
       "1"
      ]
     },
     "execution_count": 99,
     "metadata": {},
     "output_type": "execute_result"
    }
   ],
   "source": [
    "my_array1d.ndim"
   ]
  },
  {
   "cell_type": "code",
   "execution_count": 100,
   "id": "inclusive-portfolio",
   "metadata": {},
   "outputs": [
    {
     "data": {
      "text/plain": [
       "48"
      ]
     },
     "execution_count": 100,
     "metadata": {},
     "output_type": "execute_result"
    }
   ],
   "source": [
    "arr1.nbytes"
   ]
  },
  {
   "cell_type": "code",
   "execution_count": 101,
   "id": "hybrid-vacation",
   "metadata": {},
   "outputs": [
    {
     "data": {
      "text/plain": [
       "48"
      ]
     },
     "execution_count": 101,
     "metadata": {},
     "output_type": "execute_result"
    }
   ],
   "source": [
    "arr2.nbytes"
   ]
  },
  {
   "cell_type": "code",
   "execution_count": 102,
   "id": "premium-edward",
   "metadata": {},
   "outputs": [
    {
     "data": {
      "text/plain": [
       "28"
      ]
     },
     "execution_count": 102,
     "metadata": {},
     "output_type": "execute_result"
    }
   ],
   "source": [
    "my_array1d.nbytes"
   ]
  },
  {
   "cell_type": "code",
   "execution_count": 103,
   "id": "thrown-wayne",
   "metadata": {},
   "outputs": [
    {
     "data": {
      "text/plain": [
       "array([[1, 2, 3, 4],\n",
       "       [4, 5, 5, 6],\n",
       "       [7, 8, 9, 6]])"
      ]
     },
     "execution_count": 103,
     "metadata": {},
     "output_type": "execute_result"
    }
   ],
   "source": [
    "arr1"
   ]
  },
  {
   "cell_type": "code",
   "execution_count": 104,
   "id": "academic-europe",
   "metadata": {},
   "outputs": [
    {
     "data": {
      "text/plain": [
       "array([2, 2, 2, 1], dtype=int64)"
      ]
     },
     "execution_count": 104,
     "metadata": {},
     "output_type": "execute_result"
    }
   ],
   "source": [
    "arr1.argmax(axis=0)                   #gives array of index of maximum elements of axis 0"
   ]
  },
  {
   "cell_type": "code",
   "execution_count": 105,
   "id": "judicial-insurance",
   "metadata": {},
   "outputs": [
    {
     "data": {
      "text/plain": [
       "array([3, 3, 2], dtype=int64)"
      ]
     },
     "execution_count": 105,
     "metadata": {},
     "output_type": "execute_result"
    }
   ],
   "source": [
    "arr1.argmax(axis=1)"
   ]
  },
  {
   "cell_type": "code",
   "execution_count": 106,
   "id": "weekly-relation",
   "metadata": {},
   "outputs": [
    {
     "data": {
      "text/plain": [
       "array([0, 0, 0, 0], dtype=int64)"
      ]
     },
     "execution_count": 106,
     "metadata": {},
     "output_type": "execute_result"
    }
   ],
   "source": [
    "arr1.argmin(axis=0)"
   ]
  },
  {
   "cell_type": "code",
   "execution_count": 107,
   "id": "extensive-penetration",
   "metadata": {},
   "outputs": [
    {
     "data": {
      "text/plain": [
       "array([[1, 2, 3, 4],\n",
       "       [4, 5, 5, 9],\n",
       "       [1, 2, 2, 3]])"
      ]
     },
     "execution_count": 107,
     "metadata": {},
     "output_type": "execute_result"
    }
   ],
   "source": [
    "arr2"
   ]
  },
  {
   "cell_type": "code",
   "execution_count": 108,
   "id": "nervous-douglas",
   "metadata": {},
   "outputs": [
    {
     "data": {
      "text/plain": [
       "array([[0, 0, 2, 2],\n",
       "       [2, 2, 0, 0],\n",
       "       [1, 1, 1, 1]], dtype=int64)"
      ]
     },
     "execution_count": 108,
     "metadata": {},
     "output_type": "execute_result"
    }
   ],
   "source": [
    "arr2.argsort(axis=0)                         #Sorts indexes in ascending order of values"
   ]
  },
  {
   "cell_type": "code",
   "execution_count": 109,
   "id": "preceding-million",
   "metadata": {},
   "outputs": [
    {
     "data": {
      "text/plain": [
       "array([[1, 2, 3, 4],\n",
       "       [4, 5, 5, 6],\n",
       "       [7, 8, 9, 6]])"
      ]
     },
     "execution_count": 109,
     "metadata": {},
     "output_type": "execute_result"
    }
   ],
   "source": [
    "arr1"
   ]
  },
  {
   "cell_type": "code",
   "execution_count": 110,
   "id": "modular-newcastle",
   "metadata": {},
   "outputs": [
    {
     "data": {
      "text/plain": [
       "array([[0, 1, 2, 3],\n",
       "       [0, 1, 2, 3],\n",
       "       [3, 0, 1, 2]], dtype=int64)"
      ]
     },
     "execution_count": 110,
     "metadata": {},
     "output_type": "execute_result"
    }
   ],
   "source": [
    "arr1.argsort(axis=1)"
   ]
  },
  {
   "cell_type": "code",
   "execution_count": 111,
   "id": "circular-injury",
   "metadata": {},
   "outputs": [
    {
     "data": {
      "text/plain": [
       "array([1, 2, 3, 4, 5, 6, 7])"
      ]
     },
     "execution_count": 111,
     "metadata": {},
     "output_type": "execute_result"
    }
   ],
   "source": [
    "my_array1d"
   ]
  },
  {
   "cell_type": "code",
   "execution_count": 112,
   "id": "virtual-settlement",
   "metadata": {},
   "outputs": [
    {
     "data": {
      "text/plain": [
       "array([0, 1, 2, 3, 4, 5, 6], dtype=int64)"
      ]
     },
     "execution_count": 112,
     "metadata": {},
     "output_type": "execute_result"
    }
   ],
   "source": [
    "my_array1d.argsort()                     #is a func"
   ]
  },
  {
   "cell_type": "code",
   "execution_count": 113,
   "id": "genetic-champagne",
   "metadata": {},
   "outputs": [
    {
     "data": {
      "text/plain": [
       "7"
      ]
     },
     "execution_count": 113,
     "metadata": {},
     "output_type": "execute_result"
    }
   ],
   "source": [
    "my_array1d.max()                         #is a func"
   ]
  },
  {
   "cell_type": "code",
   "execution_count": 114,
   "id": "signed-hygiene",
   "metadata": {},
   "outputs": [
    {
     "data": {
      "text/plain": [
       "array([[1, 2, 3, 4],\n",
       "       [4, 5, 5, 6],\n",
       "       [7, 8, 9, 6]])"
      ]
     },
     "execution_count": 114,
     "metadata": {},
     "output_type": "execute_result"
    }
   ],
   "source": [
    "arr1"
   ]
  },
  {
   "cell_type": "code",
   "execution_count": 115,
   "id": "approved-lincoln",
   "metadata": {},
   "outputs": [
    {
     "data": {
      "text/plain": [
       "(array([0, 0, 0, 0, 1, 1, 1, 1, 2, 2, 2, 2], dtype=int64),\n",
       " array([0, 1, 2, 3, 0, 1, 2, 3, 0, 1, 2, 3], dtype=int64))"
      ]
     },
     "execution_count": 115,
     "metadata": {},
     "output_type": "execute_result"
    }
   ],
   "source": [
    "np.nonzero(arr1)                   #indices of non zero elements"
   ]
  },
  {
   "cell_type": "code",
   "execution_count": 116,
   "id": "virtual-literacy",
   "metadata": {},
   "outputs": [
    {
     "data": {
      "text/plain": [
       "12"
      ]
     },
     "execution_count": 116,
     "metadata": {},
     "output_type": "execute_result"
    }
   ],
   "source": [
    "np.count_nonzero(arr1)"
   ]
  },
  {
   "cell_type": "code",
   "execution_count": 117,
   "id": "meaningful-christian",
   "metadata": {},
   "outputs": [
    {
     "data": {
      "text/plain": [
       "array([[1.        , 1.41421356, 1.73205081, 2.        ],\n",
       "       [2.        , 2.23606798, 2.23606798, 2.44948974],\n",
       "       [2.64575131, 2.82842712, 3.        , 2.44948974]])"
      ]
     },
     "execution_count": 117,
     "metadata": {},
     "output_type": "execute_result"
    }
   ],
   "source": [
    "np.sqrt(arr1)"
   ]
  },
  {
   "cell_type": "code",
   "execution_count": 118,
   "id": "polish-motion",
   "metadata": {},
   "outputs": [
    {
     "data": {
      "text/plain": [
       "(array([2, 2, 2], dtype=int64), array([0, 1, 2], dtype=int64))"
      ]
     },
     "execution_count": 118,
     "metadata": {},
     "output_type": "execute_result"
    }
   ],
   "source": [
    "np.where(arr1>6)                         #gives index"
   ]
  },
  {
   "cell_type": "code",
   "execution_count": null,
   "id": "opponent-steam",
   "metadata": {},
   "outputs": [],
   "source": []
  }
 ],
 "metadata": {
  "kernelspec": {
   "display_name": "Python 3",
   "language": "python",
   "name": "python3"
  },
  "language_info": {
   "codemirror_mode": {
    "name": "ipython",
    "version": 3
   },
   "file_extension": ".py",
   "mimetype": "text/x-python",
   "name": "python",
   "nbconvert_exporter": "python",
   "pygments_lexer": "ipython3",
   "version": "3.7.9"
  }
 },
 "nbformat": 4,
 "nbformat_minor": 5
}
